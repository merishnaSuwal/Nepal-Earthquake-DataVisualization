{
 "cells": [
  {
   "cell_type": "code",
   "execution_count": 1,
   "metadata": {},
   "outputs": [],
   "source": [
    "import pandas as pd"
   ]
  },
  {
   "cell_type": "code",
   "execution_count": 2,
   "metadata": {},
   "outputs": [],
   "source": [
    "import matplotlib.pyplot as plt"
   ]
  },
  {
   "cell_type": "code",
   "execution_count": 3,
   "metadata": {},
   "outputs": [],
   "source": [
    "%matplotlib inline"
   ]
  },
  {
   "cell_type": "code",
   "execution_count": 4,
   "metadata": {},
   "outputs": [],
   "source": [
    "import seaborn as sns"
   ]
  },
  {
   "cell_type": "code",
   "execution_count": 5,
   "metadata": {},
   "outputs": [],
   "source": [
    "data_input = pd.read_csv('Causalities caused by earthquake,2015.csv')"
   ]
  },
  {
   "cell_type": "code",
   "execution_count": 6,
   "metadata": {},
   "outputs": [
    {
     "data": {
      "text/html": [
       "<div>\n",
       "<table border=\"1\" class=\"dataframe\">\n",
       "  <thead>\n",
       "    <tr style=\"text-align: right;\">\n",
       "      <th></th>\n",
       "      <th>District</th>\n",
       "      <th>Zone</th>\n",
       "      <th>Geographical Region</th>\n",
       "      <th>Development Region</th>\n",
       "      <th>Causalities</th>\n",
       "      <th>In Number</th>\n",
       "    </tr>\n",
       "  </thead>\n",
       "  <tbody>\n",
       "    <tr>\n",
       "      <th>0</th>\n",
       "      <td>Sindhupalchok</td>\n",
       "      <td>Bagmati</td>\n",
       "      <td>Mountain</td>\n",
       "      <td>Central</td>\n",
       "      <td>Total No. of Houses</td>\n",
       "      <td>66688</td>\n",
       "    </tr>\n",
       "    <tr>\n",
       "      <th>1</th>\n",
       "      <td>Sindhupalchok</td>\n",
       "      <td>Bagmati</td>\n",
       "      <td>Mountain</td>\n",
       "      <td>Central</td>\n",
       "      <td>Total Population</td>\n",
       "      <td>287798</td>\n",
       "    </tr>\n",
       "    <tr>\n",
       "      <th>2</th>\n",
       "      <td>Sindhupalchok</td>\n",
       "      <td>Bagmati</td>\n",
       "      <td>Mountain</td>\n",
       "      <td>Central</td>\n",
       "      <td>Dead Male</td>\n",
       "      <td>1497</td>\n",
       "    </tr>\n",
       "    <tr>\n",
       "      <th>3</th>\n",
       "      <td>Sindhupalchok</td>\n",
       "      <td>Bagmati</td>\n",
       "      <td>Mountain</td>\n",
       "      <td>Central</td>\n",
       "      <td>Dead Female</td>\n",
       "      <td>1943</td>\n",
       "    </tr>\n",
       "    <tr>\n",
       "      <th>4</th>\n",
       "      <td>Sindhupalchok</td>\n",
       "      <td>Bagmati</td>\n",
       "      <td>Mountain</td>\n",
       "      <td>Central</td>\n",
       "      <td>Dead Unknown</td>\n",
       "      <td>0</td>\n",
       "    </tr>\n",
       "  </tbody>\n",
       "</table>\n",
       "</div>"
      ],
      "text/plain": [
       "        District     Zone Geographical Region Development Region  \\\n",
       "0  Sindhupalchok  Bagmati            Mountain            Central   \n",
       "1  Sindhupalchok  Bagmati            Mountain            Central   \n",
       "2  Sindhupalchok  Bagmati            Mountain            Central   \n",
       "3  Sindhupalchok  Bagmati            Mountain            Central   \n",
       "4  Sindhupalchok  Bagmati            Mountain            Central   \n",
       "\n",
       "           Causalities  In Number  \n",
       "0  Total No. of Houses      66688  \n",
       "1     Total Population     287798  \n",
       "2            Dead Male       1497  \n",
       "3          Dead Female       1943  \n",
       "4         Dead Unknown          0  "
      ]
     },
     "execution_count": 6,
     "metadata": {},
     "output_type": "execute_result"
    }
   ],
   "source": [
    "data_input.head()"
   ]
  },
  {
   "cell_type": "code",
   "execution_count": 7,
   "metadata": {},
   "outputs": [
    {
     "data": {
      "text/plain": [
       "array(['Total No. of Houses', 'Total Population', 'Dead Male',\n",
       "       'Dead Female', 'Dead Unknown', 'Injured',\n",
       "       'Govt. Houses Fully Destroyed', 'Govt. Houses Partially Destroyed',\n",
       "       'Public House Fully Destroyed', 'Public House Partially Destroyed'],\n",
       "      dtype=object)"
      ]
     },
     "execution_count": 7,
     "metadata": {},
     "output_type": "execute_result"
    }
   ],
   "source": [
    "data_input['Causalities'].unique()"
   ]
  },
  {
   "cell_type": "code",
   "execution_count": 8,
   "metadata": {},
   "outputs": [
    {
     "data": {
      "text/plain": [
       "array(['Sindhupalchok', 'Kathmandu', 'Nuwakot', 'Dhading', 'Rasuwa',\n",
       "       'Gorkha', 'Bhaktapur', 'Kavre', 'Lalitpur', 'Dolakha', 'Ramechhap',\n",
       "       'Makwanpur', 'Solukhumbu', 'Okhaldhunga', 'Sindhuli', 'Chitawan',\n",
       "       'Sunsari', 'Parsa', 'Bara', 'Lamjung', 'Mahottari', 'Rautahat',\n",
       "       'Kaski', 'Morang', 'Bhojpur', 'Sarlahi', 'Taplejung', 'Jhapa',\n",
       "       'Terhathum', 'Udayapur', 'Siraha', 'Dhanusa', 'Nawalparasi',\n",
       "       'Palpa', 'Gulmi', 'Baglung', 'Rolpa', 'Rukum', 'Panchthar', 'Ilam',\n",
       "       'Dhankuta', 'Sankhuwasabha', 'Khotang', 'Saptari', 'Rupandehi',\n",
       "       'Kapilbastu', 'Arghakhanchi', 'Syangja', 'Tanahu', 'Manang',\n",
       "       'Mustang', 'Myagdi', 'Parbat', 'Dang', 'Pyuthan', 'Salyan',\n",
       "       'Dolpa', 'Mugu', 'Humla', 'Jumla', 'Kalikot', 'Jajarkot',\n",
       "       'Dailekh', 'Surkhet', 'Bardiya', 'Banke', 'Kailali', 'Doti',\n",
       "       'Achham', 'Bajura', 'Bajhang', 'Darchaula', 'Baitadi',\n",
       "       'Dadeldhura', 'Kanchanpur'], dtype=object)"
      ]
     },
     "execution_count": 8,
     "metadata": {},
     "output_type": "execute_result"
    }
   ],
   "source": [
    "data_input['District'].unique()"
   ]
  },
  {
   "cell_type": "code",
   "execution_count": 9,
   "metadata": {},
   "outputs": [],
   "source": [
    "# data_input.drop()"
   ]
  },
  {
   "cell_type": "code",
   "execution_count": 10,
   "metadata": {},
   "outputs": [
    {
     "data": {
      "text/plain": [
       "Index(['District', 'Zone', 'Geographical Region', 'Development Region',\n",
       "       'Causalities', 'In Number'],\n",
       "      dtype='object')"
      ]
     },
     "execution_count": 10,
     "metadata": {},
     "output_type": "execute_result"
    }
   ],
   "source": [
    "data_input.columns"
   ]
  },
  {
   "cell_type": "code",
   "execution_count": 11,
   "metadata": {},
   "outputs": [
    {
     "data": {
      "text/plain": [
       "<bound method DataFrame.drop_duplicates of           District      Zone Geographical Region Development Region  \\\n",
       "0    Sindhupalchok   Bagmati            Mountain            Central   \n",
       "1    Sindhupalchok   Bagmati            Mountain            Central   \n",
       "2    Sindhupalchok   Bagmati            Mountain            Central   \n",
       "3    Sindhupalchok   Bagmati            Mountain            Central   \n",
       "4    Sindhupalchok   Bagmati            Mountain            Central   \n",
       "5    Sindhupalchok   Bagmati            Mountain            Central   \n",
       "6    Sindhupalchok   Bagmati            Mountain            Central   \n",
       "7    Sindhupalchok   Bagmati            Mountain            Central   \n",
       "8    Sindhupalchok   Bagmati            Mountain            Central   \n",
       "9    Sindhupalchok   Bagmati            Mountain            Central   \n",
       "10       Kathmandu   Bagmati                Hill            Central   \n",
       "11       Kathmandu   Bagmati                Hill            Central   \n",
       "12       Kathmandu   Bagmati                Hill            Central   \n",
       "13       Kathmandu   Bagmati                Hill            Central   \n",
       "14       Kathmandu   Bagmati                Hill            Central   \n",
       "15       Kathmandu   Bagmati                Hill            Central   \n",
       "16       Kathmandu   Bagmati                Hill            Central   \n",
       "17       Kathmandu   Bagmati                Hill            Central   \n",
       "18       Kathmandu   Bagmati                Hill            Central   \n",
       "19       Kathmandu   Bagmati                Hill            Central   \n",
       "20         Nuwakot   Bagmati                Hill            Central   \n",
       "21         Nuwakot   Bagmati                Hill            Central   \n",
       "22         Nuwakot   Bagmati                Hill            Central   \n",
       "23         Nuwakot   Bagmati                Hill            Central   \n",
       "24         Nuwakot   Bagmati                Hill            Central   \n",
       "25         Nuwakot   Bagmati                Hill            Central   \n",
       "26         Nuwakot   Bagmati                Hill            Central   \n",
       "27         Nuwakot   Bagmati                Hill            Central   \n",
       "28         Nuwakot   Bagmati                Hill            Central   \n",
       "29         Nuwakot   Bagmati                Hill            Central   \n",
       "..             ...       ...                 ...                ...   \n",
       "720        Baitadi  Mahakali                Hill        Far-Western   \n",
       "721        Baitadi  Mahakali                Hill        Far-Western   \n",
       "722        Baitadi  Mahakali                Hill        Far-Western   \n",
       "723        Baitadi  Mahakali                Hill        Far-Western   \n",
       "724        Baitadi  Mahakali                Hill        Far-Western   \n",
       "725        Baitadi  Mahakali                Hill        Far-Western   \n",
       "726        Baitadi  Mahakali                Hill        Far-Western   \n",
       "727        Baitadi  Mahakali                Hill        Far-Western   \n",
       "728        Baitadi  Mahakali                Hill        Far-Western   \n",
       "729        Baitadi  Mahakali                Hill        Far-Western   \n",
       "730     Dadeldhura  Mahakali                Hill        Far-Western   \n",
       "731     Dadeldhura  Mahakali                Hill        Far-Western   \n",
       "732     Dadeldhura  Mahakali                Hill        Far-Western   \n",
       "733     Dadeldhura  Mahakali                Hill        Far-Western   \n",
       "734     Dadeldhura  Mahakali                Hill        Far-Western   \n",
       "735     Dadeldhura  Mahakali                Hill        Far-Western   \n",
       "736     Dadeldhura  Mahakali                Hill        Far-Western   \n",
       "737     Dadeldhura  Mahakali                Hill        Far-Western   \n",
       "738     Dadeldhura  Mahakali                Hill        Far-Western   \n",
       "739     Dadeldhura  Mahakali                Hill        Far-Western   \n",
       "740     Kanchanpur  Mahakali               Terai        Far-Western   \n",
       "741     Kanchanpur  Mahakali               Terai        Far-Western   \n",
       "742     Kanchanpur  Mahakali               Terai        Far-Western   \n",
       "743     Kanchanpur  Mahakali               Terai        Far-Western   \n",
       "744     Kanchanpur  Mahakali               Terai        Far-Western   \n",
       "745     Kanchanpur  Mahakali               Terai        Far-Western   \n",
       "746     Kanchanpur  Mahakali               Terai        Far-Western   \n",
       "747     Kanchanpur  Mahakali               Terai        Far-Western   \n",
       "748     Kanchanpur  Mahakali               Terai        Far-Western   \n",
       "749     Kanchanpur  Mahakali               Terai        Far-Western   \n",
       "\n",
       "                          Causalities  In Number  \n",
       "0                 Total No. of Houses      66688  \n",
       "1                    Total Population     287798  \n",
       "2                           Dead Male       1497  \n",
       "3                         Dead Female       1943  \n",
       "4                        Dead Unknown          0  \n",
       "5                             Injured       1571  \n",
       "6        Govt. Houses Fully Destroyed          0  \n",
       "7    Govt. Houses Partially Destroyed          0  \n",
       "8        Public House Fully Destroyed      63885  \n",
       "9    Public House Partially Destroyed       2751  \n",
       "10                Total No. of Houses     436344  \n",
       "11                   Total Population    1744240  \n",
       "12                          Dead Male        621  \n",
       "13                        Dead Female        600  \n",
       "14                       Dead Unknown          1  \n",
       "15                            Injured       7859  \n",
       "16       Govt. Houses Fully Destroyed         85  \n",
       "17   Govt. Houses Partially Destroyed        277  \n",
       "18       Public House Fully Destroyed      36973  \n",
       "19   Public House Partially Destroyed      50753  \n",
       "20                Total No. of Houses      59215  \n",
       "21                   Total Population     277471  \n",
       "22                          Dead Male        456  \n",
       "23                        Dead Female        625  \n",
       "24                       Dead Unknown          0  \n",
       "25                            Injured       1052  \n",
       "26       Govt. Houses Fully Destroyed         14  \n",
       "27   Govt. Houses Partially Destroyed         15  \n",
       "28       Public House Fully Destroyed      57943  \n",
       "29   Public House Partially Destroyed       4200  \n",
       "..                                ...        ...  \n",
       "720               Total No. of Houses      45191  \n",
       "721                  Total Population     250898  \n",
       "722                         Dead Male          0  \n",
       "723                       Dead Female          0  \n",
       "724                      Dead Unknown          0  \n",
       "725                           Injured          0  \n",
       "726      Govt. Houses Fully Destroyed          0  \n",
       "727  Govt. Houses Partially Destroyed          0  \n",
       "728      Public House Fully Destroyed          0  \n",
       "729  Public House Partially Destroyed          0  \n",
       "730               Total No. of Houses      27045  \n",
       "731                  Total Population     142094  \n",
       "732                         Dead Male          0  \n",
       "733                       Dead Female          0  \n",
       "734                      Dead Unknown          0  \n",
       "735                           Injured          0  \n",
       "736      Govt. Houses Fully Destroyed          0  \n",
       "737  Govt. Houses Partially Destroyed          0  \n",
       "738      Public House Fully Destroyed          0  \n",
       "739  Public House Partially Destroyed          1  \n",
       "740               Total No. of Houses      82152  \n",
       "741                  Total Population     451248  \n",
       "742                         Dead Male          0  \n",
       "743                       Dead Female          0  \n",
       "744                      Dead Unknown          0  \n",
       "745                           Injured          1  \n",
       "746      Govt. Houses Fully Destroyed          0  \n",
       "747  Govt. Houses Partially Destroyed          1  \n",
       "748      Public House Fully Destroyed          0  \n",
       "749  Public House Partially Destroyed          0  \n",
       "\n",
       "[750 rows x 6 columns]>"
      ]
     },
     "execution_count": 11,
     "metadata": {},
     "output_type": "execute_result"
    }
   ],
   "source": [
    "data_input.drop_duplicates"
   ]
  },
  {
   "cell_type": "code",
   "execution_count": null,
   "metadata": {},
   "outputs": [],
   "source": []
  }
 ],
 "metadata": {
  "kernelspec": {
   "display_name": "Python 3",
   "language": "python",
   "name": "python3"
  },
  "language_info": {
   "codemirror_mode": {
    "name": "ipython",
    "version": 3
   },
   "file_extension": ".py",
   "mimetype": "text/x-python",
   "name": "python",
   "nbconvert_exporter": "python",
   "pygments_lexer": "ipython3",
   "version": "3.6.3"
  }
 },
 "nbformat": 4,
 "nbformat_minor": 2
}
